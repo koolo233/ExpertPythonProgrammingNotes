{
 "cells": [
  {
   "cell_type": "markdown",
   "metadata": {},
   "source": [
    "# Python现状\n",
    "\n",
    "## 用于保持跨版本兼容性的常用工具和技术\n",
    "\n",
    "对于在许多环境中都会用到的包，检查并保持跨版本兼容性是有必要的。\n",
    "\n",
    "主要有三个问题：\n",
    "1. 定义并记录目标兼容范围及管理方法\n",
    "2. 在每个环境中进行测试，并对每个兼容的依赖版本进行测试\n",
    "3. 实现兼容代码\n",
    "\n",
    "### 定义并记录目标兼容范围以及管理方法\n",
    "本书建议：语义化版本（Semantic Versioning semver）\n",
    "#### 版本格式：主版本号.次版本号.修订号\n",
    "* 主版本号（MAJOR）：不能向后兼容的API修改（breaking change）\n",
    "* 次版本号（MINOR）：向后兼容的功能性新增（new feature）\n",
    "* 修订号（PATCH）：向后兼容的问题修订（bug fix）\n",
    "\n",
    "#### 常见缩写：\n",
    "* Snapshot：快照\n",
    "开发版，仍处于开发阶段\n",
    "* Alpha（α）：内测版\n",
    "内部交流或者专业人员测试用\n",
    "* Preview：预览版\n",
    "* Beta（β）：公测版\n",
    "专业爱好者测试用，存在一些bug，不适合一般的用户\n",
    "* Gamma/RC （Release Candidate）：候选版本\n",
    "基本不存在错误，与正式发行版相似，功能不再增加\n",
    "* Release：发行版\n",
    "经过了测试，适用于一般用户的版本\n",
    "* Stable：稳定版\n",
    "\n",
    "#### 实用规则：\n",
    "1. 标准的版本号必须采用 XYZ 的格式，并且 X、Y 和 Z 为非负的整数，禁止在数字前方补零，版本发布需要严格递增。例如：1.9.1 -> 1.10.0 -> 1.11.0。\n",
    "2. 某个软件版本发行后，任何修改都必须以新版本发行。\n",
    "3. 1.0.0 的版本号用于界定公共 API。当你的软件发布到了正式环境，或者有稳定的 API 时，就可以发布 1.0.0 版本了。\n",
    "4. 版本的优先层级指的是不同版本在排序时如何比较。判断优先层级时，必须把版本依序拆分为主版本号、次版本号、修订号及先行版本号后进行比较。\n",
    "\n",
    "### 兼容测试\n",
    "详情见第10章\n",
    "\n",
    "### 实现兼容代码\n",
    "\n",
    "future、__future__以及Six"
   ]
  },
  {
   "cell_type": "markdown",
   "metadata": {},
   "source": [
    "## Python解释器实现\n",
    "\n",
    "常见的Python解释器基于C实现，即所谓的CPython。但是除了CPython外，其他Python解释器在某些情况下仍有必要关注。\n",
    "\n",
    "1. 在嵌入式系统中运行Python\n",
    "2. 与运行框架（例如JAVA或者.NET）或其他语言进行代码集成\n",
    "3. 在特殊框架中运行Python代码，例如在Web框架中\n",
    "\n",
    "### Stackless Python （CPython Enhance）\n",
    "\n",
    "### Jython（JAVA适配）\n",
    "核心特点：\n",
    "* 基于JAVA的垃圾回收\n",
    "* 没有GIL\n",
    "* 对CPython扩展API缺乏支持\n",
    "\n",
    "### IronPython（.NET适配）\n",
    "核心特点：\n",
    "* 没有GIL\n",
    "* 适配C#和其他.NET语言\n",
    "* 借助Silverlight，可以在所有主流Web浏览器中运行\n",
    "* 对CPython扩展API缺乏支持\n",
    "\n",
    "### PyPy（完全由Python开发的解释器）"
   ]
  },
  {
   "cell_type": "markdown",
   "metadata": {},
   "source": [
    "## Python开发的现代方法\n",
    "\n",
    "依赖社区，永远不要自己重复造轮子"
   ]
  },
  {
   "cell_type": "markdown",
   "metadata": {},
   "source": [
    "## 应用层Python环境隔离\n",
    "\n",
    "Python若使用pip安装包，通常是系统级的，即直接安装在适用于整个系统的Python环境中。这样的行为存在危险，其很可能会破坏系统以及其他项目的依赖\n",
    "\n",
    "Python环境隔离的意义：\n",
    "1. 解决多个项目依赖不同的问题\n",
    "2. 项目不再受限于系统发行版仓库中的版本\n",
    "3. 不会破坏依赖特定包版本的其他系统服务\n",
    "4. 项目依赖便于导出和锁定\n",
    "\n",
    "应用层Python环境隔离仅隔离了Python解释器和可用的Python包，能够保证小项目和小软件包开发过程的隔离。但是由于这种方式并没有处理其他外部依赖，因此不能充分保证一致性和可重复性，若要实现完全的一致性和可重复性则需要系统级的隔离。\n",
    "\n",
    "应用层Python环境隔离解决方案：\n",
    "1. virtualenv：依赖在文件系统中的存储状态，不会对包进行追踪，不可移植\n",
    "2. venv\n",
    "3. buildout：要求有声明文件，当依赖发生变动时要求修改配置，因此能够提高虚拟环境的可维护性和可重复性。**注意：不可单独用于应用层Python环境隔离**"
   ]
  },
  {
   "cell_type": "markdown",
   "metadata": {},
   "source": [
    "## 系统级Python环境隔离\n",
    "\n",
    "系统级Python环境隔离最为常见的做法是系统虚拟化\n",
    "优点：\n",
    "1. 开发环境可以完全匹配生产环境的系统版本以及服务，有助于解决兼容性问题\n",
    "2. 系统配置工具可以复用于开发环境配置\n",
    "3. 新的团队成员能够轻松上手项目\n",
    "4. 开发人员可以直接调用系统底层特性，这些特性在开发人员的工作机上获取并不存在\n",
    "\n",
    "常用解决方案：Vagrant\n",
    "\n",
    "\n",
    "## 中间选择\n",
    "\n",
    "对于应用层环境隔离，目前可以选用conda，但是不同于作者给出的定义，conda的每一个虚拟环境均有自己的解释器\n",
    "\n",
    "相较于全机器虚拟化方案，目前可以选用更轻量的“容器”。容器仅包含应用程序代码以及系统级的依赖，但是从内部运行进程来看，容器像一个完全隔离的系统环境。主流方案：docker"
   ]
  },
  {
   "cell_type": "markdown",
   "metadata": {},
   "source": [
    "## 常用工具\n",
    "\n",
    "主要介绍了一些shell增强工具\n",
    "\n",
    "1. IPython\n",
    "2. bpython\n",
    "3. ptpython\n",
    "\n",
    "然后是交互式调试器\n",
    "1. pdb\n",
    "2. ipdb：基于IPython的独立包\n",
    "3. ptpdb：基于ptpython的独立包\n",
    "4. bpdb：适配bpython\n",
    "\n",
    "其他：\n",
    "* Awesome-Python\n",
    "* Python Weekly"
   ]
  }
 ],
 "metadata": {
  "kernelspec": {
   "display_name": "Python 3.7.6 ('base')",
   "language": "python",
   "name": "python3"
  },
  "language_info": {
   "codemirror_mode": {
    "name": "ipython",
    "version": 3
   },
   "file_extension": ".py",
   "mimetype": "text/x-python",
   "name": "python",
   "nbconvert_exporter": "python",
   "pygments_lexer": "ipython3",
   "version": "3.7.6"
  },
  "orig_nbformat": 4,
  "vscode": {
   "interpreter": {
    "hash": "414db5d21f38cf2118d91c5949ab8d1e091516af04cbe7809be231d861c66a2d"
   }
  }
 },
 "nbformat": 4,
 "nbformat_minor": 2
}
